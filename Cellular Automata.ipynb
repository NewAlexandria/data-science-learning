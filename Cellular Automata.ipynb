{
 "cells": [
  {
   "cell_type": "markdown",
   "metadata": {
    "toc": true
   },
   "source": [
    "<h1>Table of Contents<span class=\"tocSkip\"></span></h1>\n",
    "<div class=\"toc\"><ul class=\"toc-item\"><li><span><a href=\"#Intro\" data-toc-modified-id=\"Intro-1\"><span class=\"toc-item-num\">1&nbsp;&nbsp;</span>Intro</a></span></li><li><span><a href=\"#1D-Automata\" data-toc-modified-id=\"1D-Automata-2\"><span class=\"toc-item-num\">2&nbsp;&nbsp;</span>1D Automata</a></span><ul class=\"toc-item\"><li><span><a href=\"#Animation\" data-toc-modified-id=\"Animation-2.1\"><span class=\"toc-item-num\">2.1&nbsp;&nbsp;</span>Animation</a></span></li></ul></li><li><span><a href=\"#Conway’s-Game-Of-Life\" data-toc-modified-id=\"Conway’s-Game-Of-Life-3\"><span class=\"toc-item-num\">3&nbsp;&nbsp;</span>Conway’s Game Of Life</a></span><ul class=\"toc-item\"><li><span><a href=\"#Animation-in-Matplotlib\" data-toc-modified-id=\"Animation-in-Matplotlib-3.1\"><span class=\"toc-item-num\">3.1&nbsp;&nbsp;</span>Animation in Matplotlib</a></span><ul class=\"toc-item\"><li><span><a href=\"#Interactive-Animation\" data-toc-modified-id=\"Interactive-Animation-3.1.1\"><span class=\"toc-item-num\">3.1.1&nbsp;&nbsp;</span>Interactive Animation</a></span></li></ul></li><li><span><a href=\"#Game-of-Life-3D\" data-toc-modified-id=\"Game-of-Life-3D-3.2\"><span class=\"toc-item-num\">3.2&nbsp;&nbsp;</span>Game of Life 3D</a></span></li></ul></li></ul></div>"
   ]
  },
  {
   "cell_type": "markdown",
   "metadata": {},
   "source": [
    "# Intro\n",
    "Cellular Automata are discrete mathematical models of Artificial Life.\n",
    "*Discrete* because they exist in a discrete space, for example a 2D cell grid for 2-Dimensional automata.\n",
    "\n",
    "Other primary properties of a cellular automaton:\n",
    "* **dimensionality** of the space/world it lives in\n",
    "* **evolutionary rules**\n",
    "* **neighborhood**. For example in a 2D setting *Moore Neighboorhood* consists of the 8 surrounding cells.\n",
    "* finite number of **states**\n",
    "\n",
    "Also in general updates are applied instantly to all units."
   ]
  },
  {
   "cell_type": "code",
   "execution_count": 40,
   "metadata": {},
   "outputs": [],
   "source": [
    "import numpy as np\n",
    "import matplotlib.pyplot as plt\n",
    "import matplotlib.animation as animation\n",
    "from PIL import Image, ImageDraw\n",
    "\n",
    "%matplotlib notebook"
   ]
  },
  {
   "cell_type": "markdown",
   "metadata": {},
   "source": [
    "# 1D Automata"
   ]
  },
  {
   "cell_type": "code",
   "execution_count": 92,
   "metadata": {},
   "outputs": [],
   "source": [
    "class Automaton_1D:\n",
    "    def __init__(self, n: int, states: int=2):\n",
    "        \"\"\"\n",
    "        1D Automaton\n",
    "        :param n: number of cells\n",
    "        \"\"\"\n",
    "        self.n = n\n",
    "        self.space = np.zeros(n, dtype=np.uint8)\n",
    "        self.space[n//2] = 1\n",
    "        #np.array([0,0,0,0,1,0,0,0,0,0])#np.random.choice(2, n)\n",
    "    \n",
    "    def update(self, rule: dict):\n",
    "        \"\"\"\n",
    "        Update automaton state\n",
    "        \"\"\"\n",
    "        tmp_space = self.space.copy()\n",
    "        for i in range(self.n):\n",
    "            neighbours = self.get_neighbours(i)\n",
    "            tmp_space[i] = rule[\"\".join([str(s) for s in neighbours])]\n",
    "        self.space = tmp_space\n",
    "        \n",
    "    def get_neighbours(self, i: int):\n",
    "        if i == 0:\n",
    "            return np.insert(self.space[:2], 0, self.space[-1])\n",
    "        elif i == self.n - 1:\n",
    "            return np.insert(self.space[-2:], 2, self.space[0])\n",
    "        else: \n",
    "            return self.space[max(0, i-1):i+2]"
   ]
  },
  {
   "cell_type": "code",
   "execution_count": 129,
   "metadata": {},
   "outputs": [],
   "source": [
    "rule_0 = {'111': 1, '110': 1, '101': 1, '100': 1, '011': 1, '010': 1, '001': 1, '000': 0}\n",
    "rule_sierpinski = {'111': 0, '110': 1, '101': 0, '100': 1, '011': 1, '010': 0, '001': 1, '000': 0}\n",
    "rule_x = {'111': 0, '110': 0, '101': 0, '100': 1, '011': 1, '010': 1, '001': 1, '000': 0}"
   ]
  },
  {
   "cell_type": "markdown",
   "metadata": {},
   "source": [
    "## Animation"
   ]
  },
  {
   "cell_type": "code",
   "execution_count": 130,
   "metadata": {},
   "outputs": [
    {
     "data": {
      "text/plain": [
       "<IPython.core.display.Javascript object>"
      ]
     },
     "metadata": {},
     "output_type": "display_data"
    },
    {
     "data": {
      "text/html": [
       "<img src=\"data:image/png;base64,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\" width=\"250\">"
      ],
      "text/plain": [
       "<IPython.core.display.HTML object>"
      ]
     },
     "metadata": {},
     "output_type": "execute_result"
    }
   ],
   "source": [
    "automaton_size = 100\n",
    "automaton_1d = Automaton_1D(automaton_size)\n",
    "nb_frames = 100\n",
    "\n",
    "img = Image.new('RGB', (automaton_size, nb_frames), 'white')\n",
    "draw = ImageDraw.Draw(img)\n",
    "fig, ax = plt.subplots(dpi=50, figsize=(5, 5))\n",
    "#im = ax.imshow(img)\n",
    "plt.axis('off')\n",
    "\n",
    "def animate(i, automaton, draw, img):\n",
    "    space_img = Image.fromarray(automaton_1d.space.reshape(1, automaton_size)*255)\n",
    "    img.paste(space_img, (0, i)) #mask=space_img\n",
    "    ax.imshow(img)\n",
    "    automaton.update(rule_x)\n",
    "\n",
    "ani = animation.FuncAnimation(fig, animate, frames=nb_frames, interval=1, \n",
    "                              fargs=[automaton_1d, draw, img])"
   ]
  },
  {
   "cell_type": "markdown",
   "metadata": {},
   "source": [
    "# Conway’s Game Of Life"
   ]
  },
  {
   "cell_type": "markdown",
   "metadata": {},
   "source": [
    "Game Of Life (GOL) is possibly one of the most notorious examples of a cellular automata.\n",
    "\n",
    "Defined by mathematician John Horton Conway, it plays out on a two dimensional grid for which each cell can be in one of two possible states. Starting from an initial grid configuration the system evolves at each unit step taking into account only the immediate preceding configuration. If for each cell we consider the eight surrounding cells as neighbors, the system transition can be defined by four simple rules."
   ]
  },
  {
   "cell_type": "code",
   "execution_count": 2,
   "metadata": {
    "ExecuteTime": {
     "end_time": "2017-10-05T11:23:20.411901",
     "start_time": "2017-10-05T11:23:20.400901"
    },
    "collapsed": true
   },
   "outputs": [],
   "source": [
    "class ConwayGOL_2D:\n",
    "    def __init__(self, N):\n",
    "        \"\"\"\n",
    "        2D Conway Game of Life\n",
    "        :param N: grid side size (resulting grid will be a NxN matrix)\n",
    "        \"\"\"\n",
    "        self.N = N\n",
    "        self.grid = np.random.choice(2, (N,N))\n",
    "    \n",
    "    def update(self):\n",
    "        \"\"\"\n",
    "        Update status of the grid\n",
    "        \"\"\"\n",
    "        tmpGrid = self.grid.copy()\n",
    "        for i in range(self.N):\n",
    "            for j in range(self.N):\n",
    "                neighbours = self.grid[max(0, i-1):min(i+2,self.N), max(0, j-1):min(j+2,self.N)].sum()\n",
    "                neighbours -= self.grid[i, j]\n",
    "                if self.grid[i, j] == 1:\n",
    "                    if neighbours > 3 or neighbours < 2:\n",
    "                        tmpGrid[i, j] = 0\n",
    "                elif neighbours == 3:\n",
    "                    tmpGrid[i, j] = 1\n",
    "        self.grid = tmpGrid"
   ]
  },
  {
   "cell_type": "markdown",
   "metadata": {},
   "source": [
    "## Animation in Matplotlib"
   ]
  },
  {
   "cell_type": "code",
   "execution_count": 3,
   "metadata": {
    "ExecuteTime": {
     "end_time": "2017-10-05T11:23:24.260121",
     "start_time": "2017-10-05T11:23:24.148115"
    },
    "scrolled": false
   },
   "outputs": [
    {
     "data": {
      "text/plain": [
       "<IPython.core.display.Javascript object>"
      ]
     },
     "metadata": {},
     "output_type": "display_data"
    },
    {
     "data": {
      "text/html": [
       "<img src=\"data:image/png;base64,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\">"
      ],
      "text/plain": [
       "<IPython.core.display.HTML object>"
      ]
     },
     "metadata": {},
     "output_type": "execute_result"
    },
    {
     "data": {
      "text/plain": [
       "<matplotlib.animation.FuncAnimation at 0x8278828>"
      ]
     },
     "execution_count": 3,
     "metadata": {},
     "output_type": "execute_result"
    }
   ],
   "source": [
    "gol = ConwayGOL_2D(100)\n",
    "\n",
    "fig, ax = plt.subplots(dpi=100, figsize=(5, 4))\n",
    "im = ax.imshow(gol.grid, cmap='Greys', interpolation='nearest')\n",
    "plt.axis('off')\n",
    "\n",
    "def animate(i):\n",
    "    gol.update()\n",
    "    im.set_data(gol.grid)\n",
    "\n",
    "#ani = animation.FuncAnimation(fig, animate, frames=1000, interval=100).save('basic_animation.mp4', writer=animation.FFMpegFileWriter(fps=30))\n",
    "animation.FuncAnimation(fig, animate, frames=1000, interval=100)\n",
    "#plt.show()"
   ]
  },
  {
   "cell_type": "markdown",
   "metadata": {},
   "source": [
    "### Interactive Animation\n"
   ]
  },
  {
   "cell_type": "code",
   "execution_count": 4,
   "metadata": {
    "ExecuteTime": {
     "end_time": "2017-10-05T11:23:29.400415",
     "start_time": "2017-10-05T11:23:29.394415"
    },
    "collapsed": true
   },
   "outputs": [],
   "source": [
    "from ipywidgets import interact, widgets"
   ]
  },
  {
   "cell_type": "code",
   "execution_count": 5,
   "metadata": {
    "ExecuteTime": {
     "end_time": "2017-10-05T11:23:42.340155",
     "start_time": "2017-10-05T11:23:42.330155"
    },
    "collapsed": true
   },
   "outputs": [],
   "source": [
    "def run_conwayGOL_2D(size):\n",
    "    gol = ConwayGOL_2D(size)\n",
    "\n",
    "    fig, ax = plt.subplots(dpi=100, figsize=(5, 4))\n",
    "    im = ax.imshow(gol.grid, cmap='Greys', interpolation='nearest')\n",
    "    plt.axis('off')\n",
    "\n",
    "    def animate(i):\n",
    "        gol.update()\n",
    "        im.set_data(gol.grid)\n",
    "\n",
    "    return animation.FuncAnimation(fig, animate, frames=1000, interval=100)"
   ]
  },
  {
   "cell_type": "code",
   "execution_count": 6,
   "metadata": {
    "ExecuteTime": {
     "end_time": "2017-10-05T11:23:42.995193",
     "start_time": "2017-10-05T11:23:42.882186"
    }
   },
   "outputs": [
    {
     "data": {
      "text/plain": [
       "<IPython.core.display.Javascript object>"
      ]
     },
     "metadata": {},
     "output_type": "display_data"
    },
    {
     "data": {
      "text/html": [
       "<img src=\"data:image/png;base64,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\">"
      ],
      "text/plain": [
       "<IPython.core.display.HTML object>"
      ]
     },
     "metadata": {},
     "output_type": "execute_result"
    },
    {
     "data": {
      "text/plain": [
       "<matplotlib.animation.FuncAnimation at 0x82f5080>"
      ]
     },
     "metadata": {},
     "output_type": "display_data"
    },
    {
     "data": {
      "text/plain": [
       "<function __main__.run_conwayGOL_2D>"
      ]
     },
     "execution_count": 6,
     "metadata": {},
     "output_type": "execute_result"
    }
   ],
   "source": [
    "from ipywidgets import interact, widgets\n",
    "interact(run_conwayGOL_2D, size=(10,100))"
   ]
  },
  {
   "cell_type": "markdown",
   "metadata": {},
   "source": [
    "## Game of Life 3D"
   ]
  },
  {
   "cell_type": "markdown",
   "metadata": {},
   "source": [
    "Regarding the grid structure and neighbors counting is purely a matter of using a 3-dimensional numpy array and related indexing.\n",
    "For the rules, original GOL ones are not so stable for a 3D setup."
   ]
  },
  {
   "cell_type": "code",
   "execution_count": null,
   "metadata": {
    "ExecuteTime": {
     "end_time": "2017-07-02T11:23:13.485874",
     "start_time": "2017-07-02T11:23:13.463873"
    },
    "collapsed": true
   },
   "outputs": [],
   "source": [
    "class ConwayGOL_3D:\n",
    "    def __init__(self, N):\n",
    "        \"\"\"\n",
    "        3D Conway Game of Life\n",
    "        :param N: 3D grid side size (resulting grid will be a NxNxN matrix)\n",
    "        \"\"\"\n",
    "        self.N = N\n",
    "        self.grid = np.random.choice(2, (N,N,N))\n",
    "    \n",
    "    def update(self):\n",
    "        \"\"\"\n",
    "        Update status of the grid\n",
    "        \"\"\"\n",
    "        tmpGrid = self.grid.copy()\n",
    "        for z in range(self.N):\n",
    "            for y in range(self.N):\n",
    "                for x in range(self.N):\n",
    "                    neighbours = self.grid[max(0, z-1):min(z+2,self.N),\n",
    "                                           max(0, y-1):min(y+2,self.N), \n",
    "                                           max(0, x-1):min(x+2,self.N)].sum()\n",
    "                    neighbours -= self.grid[z, y, x]\n",
    "                    if self.grid[z, y, x] == 1:\n",
    "                        if neighbours > 3 or neighbours < 2:\n",
    "                            tmpGrid[z, y, x] = 0\n",
    "                    elif neighbours == 3:\n",
    "                        tmpGrid[z, y, x] = 1\n",
    "        self.grid = tmpGrid"
   ]
  }
 ],
 "metadata": {
  "anaconda-cloud": {},
  "kernelspec": {
   "display_name": "Python [conda env:graphics]",
   "language": "python",
   "name": "conda-env-graphics-py"
  },
  "language_info": {
   "codemirror_mode": {
    "name": "ipython",
    "version": 3
   },
   "file_extension": ".py",
   "mimetype": "text/x-python",
   "name": "python",
   "nbconvert_exporter": "python",
   "pygments_lexer": "ipython3",
   "version": "3.6.6"
  },
  "toc": {
   "base_numbering": 1.0,
   "nav_menu": {
    "height": "30px",
    "width": "252px"
   },
   "number_sections": true,
   "sideBar": true,
   "skip_h1_title": false,
   "title_cell": "Table of Contents",
   "title_sidebar": "Contents",
   "toc_cell": true,
   "toc_position": {
    "height": "calc(100% - 180px)",
    "left": "10px",
    "top": "150px",
    "width": "320px"
   },
   "toc_section_display": "block",
   "toc_window_display": true
  }
 },
 "nbformat": 4,
 "nbformat_minor": 1
}
